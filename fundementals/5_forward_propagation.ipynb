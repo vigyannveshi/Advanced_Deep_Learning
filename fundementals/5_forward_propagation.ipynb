{
 "cells": [
  {
   "cell_type": "markdown",
   "metadata": {},
   "source": [
    "# **Forward Propogation**\n",
    "Learnt it using:\n",
    "**Reference: https://www.youtube.com/watch?v=7MuiScUkboE**"
   ]
  },
  {
   "cell_type": "code",
   "execution_count": null,
   "metadata": {},
   "outputs": [],
   "source": []
  }
 ],
 "metadata": {
  "language_info": {
   "name": "python"
  }
 },
 "nbformat": 4,
 "nbformat_minor": 2
}
