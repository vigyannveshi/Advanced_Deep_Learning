{
 "cells": [
  {
   "cell_type": "markdown",
   "metadata": {},
   "source": [
    "# **Detection Head**\n",
    "* The content is followed using \"Detection Head | Essentials of Object Detection\".<br>Reference: https://www.youtube.com/watch?v=U6rpkdVm21E&list=PLivJwLo9VCUJXdO8SiOjZTWr_fXrAy4OQ&index=5\n",
    "* Extended by **Vigyannveshi** "
   ]
  },
  {
   "cell_type": "code",
   "execution_count": 1,
   "metadata": {},
   "outputs": [],
   "source": [
    "import torch as tr\n",
    "import torch.nn as nn\n",
    "\n",
    "from typing import NamedTuple\n",
    "import einops"
   ]
  },
  {
   "cell_type": "markdown",
   "metadata": {},
   "source": [
    "**creating classes to simulate backbone**"
   ]
  },
  {
   "cell_type": "code",
   "execution_count": 2,
   "metadata": {},
   "outputs": [],
   "source": [
    "class FakeBackboneResult(NamedTuple):\n",
    "    hl_features:tr.Tensor\n",
    "    ml_features:tr.Tensor\n",
    "    ll_features:tr.Tensor"
   ]
  },
  {
   "cell_type": "code",
   "execution_count": 3,
   "metadata": {},
   "outputs": [],
   "source": [
    "class FakeBackbone(nn.Module):\n",
    "    def __init__(self):\n",
    "        super().__init__()\n",
    "\n",
    "    def forward(self,x:tr.Tensor)-> FakeBackboneResult:\n",
    "        hl_fm=tr.torch.randn(size=(1,512,13,13))\n",
    "        ml_fm=tr.torch.randn(size=(1,256,26,26))\n",
    "        ll_fm=tr.torch.randn(size=(1,128,52,52))\n",
    "\n",
    "        return FakeBackboneResult(\n",
    "            hl_features=hl_fm,\n",
    "            ml_features=ml_fm,\n",
    "            ll_features=ll_fm) \n"
   ]
  },
  {
   "cell_type": "code",
   "execution_count": 4,
   "metadata": {},
   "outputs": [],
   "source": [
    "backbone=FakeBackbone()\n",
    "backbone_output=backbone(tr.rand(size=(1,3,416,416)))"
   ]
  },
  {
   "cell_type": "code",
   "execution_count": 5,
   "metadata": {},
   "outputs": [
    {
     "data": {
      "text/plain": [
       "torch.Size([1, 512, 13, 13])"
      ]
     },
     "execution_count": 5,
     "metadata": {},
     "output_type": "execute_result"
    }
   ],
   "source": [
    "backbone_output.hl_features.shape"
   ]
  },
  {
   "cell_type": "code",
   "execution_count": 6,
   "metadata": {},
   "outputs": [
    {
     "data": {
      "text/plain": [
       "torch.Size([1, 256, 26, 26])"
      ]
     },
     "execution_count": 6,
     "metadata": {},
     "output_type": "execute_result"
    }
   ],
   "source": [
    "backbone_output.ml_features.shape"
   ]
  },
  {
   "cell_type": "code",
   "execution_count": 7,
   "metadata": {},
   "outputs": [
    {
     "data": {
      "text/plain": [
       "torch.Size([1, 128, 52, 52])"
      ]
     },
     "execution_count": 7,
     "metadata": {},
     "output_type": "execute_result"
    }
   ],
   "source": [
    "backbone_output.ll_features.shape"
   ]
  },
  {
   "cell_type": "markdown",
   "metadata": {},
   "source": [
    "**creating class to simulate detection head**"
   ]
  },
  {
   "cell_type": "code",
   "execution_count": 8,
   "metadata": {},
   "outputs": [],
   "source": [
    "class DetectionHead(nn.Module):\n",
    "    def __init__(self,in_channels:int,num_boxes_per_cell:int,num_classes:int):\n",
    "        super().__init__()\n",
    "        num_predicted_channels=num_boxes_per_cell*(4+1+num_classes)\n",
    "\n",
    "        self.conv=nn.Conv2d(\n",
    "            in_channels=in_channels,\n",
    "            out_channels=num_predicted_channels,\n",
    "            kernel_size=1,\n",
    "            stride=1\n",
    "        )\n",
    "\n",
    "    def forward(self,x:tr.Tensor)->tr.Tensor:\n",
    "        x=self.conv(x)\n",
    "        return x"
   ]
  },
  {
   "cell_type": "code",
   "execution_count": 9,
   "metadata": {},
   "outputs": [
    {
     "name": "stdout",
     "output_type": "stream",
     "text": [
      "torch.Size([1, 24, 13, 13])\n"
     ]
    }
   ],
   "source": [
    "hl_detector=DetectionHead(in_channels=512,num_boxes_per_cell=3,num_classes=3)\n",
    "hl_detections=hl_detector.forward(backbone_output.hl_features)\n",
    "print(hl_detections.shape)\n",
    "# hl_detections"
   ]
  },
  {
   "cell_type": "code",
   "execution_count": 10,
   "metadata": {},
   "outputs": [
    {
     "name": "stdout",
     "output_type": "stream",
     "text": [
      "torch.Size([1, 24, 26, 26])\n"
     ]
    }
   ],
   "source": [
    "ml_detector=DetectionHead(in_channels=256,num_boxes_per_cell=3,num_classes=3)\n",
    "ml_detections=ml_detector.forward(backbone_output.ml_features)\n",
    "print(ml_detections.shape)\n",
    "# ml_detections"
   ]
  },
  {
   "cell_type": "code",
   "execution_count": 11,
   "metadata": {},
   "outputs": [
    {
     "name": "stdout",
     "output_type": "stream",
     "text": [
      "torch.Size([1, 24, 52, 52])\n"
     ]
    }
   ],
   "source": [
    "ll_detector=DetectionHead(in_channels=128,num_boxes_per_cell=3,num_classes=3)\n",
    "ll_detections=ll_detector.forward(backbone_output.ll_features)\n",
    "print(ll_detections.shape)\n",
    "# ml_detections"
   ]
  },
  {
   "cell_type": "code",
   "execution_count": 12,
   "metadata": {},
   "outputs": [
    {
     "data": {
      "text/plain": [
       "torch.Size([1, 3, 13, 13, 8])"
      ]
     },
     "execution_count": 12,
     "metadata": {},
     "output_type": "execute_result"
    }
   ],
   "source": [
    "hl_detections_for_training=einops.rearrange(\n",
    "    hl_detections,\n",
    "    \"batchsize (num_anchors_per_cell prediction_per_object) height width -> batchsize num_anchors_per_cell height width prediction_per_object\",num_anchors_per_cell=3\n",
    ")\n",
    "hl_detections_for_training.shape"
   ]
  },
  {
   "cell_type": "code",
   "execution_count": 13,
   "metadata": {},
   "outputs": [
    {
     "data": {
      "text/plain": [
       "torch.Size([8])"
      ]
     },
     "execution_count": 13,
     "metadata": {},
     "output_type": "execute_result"
    }
   ],
   "source": [
    "pred_for_box0_at_cell_15 = hl_detections_for_training[0][0][1][5]\n",
    "pred_for_box1_at_cell_15 = hl_detections_for_training[0][1][1][5]\n",
    "pred_for_box2_at_cell_15 = hl_detections_for_training[0][2][1][5]\n",
    "\n",
    "pred_for_box0_at_cell_15.shape"
   ]
  },
  {
   "cell_type": "code",
   "execution_count": 14,
   "metadata": {},
   "outputs": [
    {
     "data": {
      "text/plain": [
       "(tensor([-1.0813,  0.8398,  0.9141,  1.3997], grad_fn=<SliceBackward0>),\n",
       " tensor(-0.3770, grad_fn=<SelectBackward0>),\n",
       " tensor([0.2549, 0.3565, 0.5067], grad_fn=<SliceBackward0>))"
      ]
     },
     "execution_count": 14,
     "metadata": {},
     "output_type": "execute_result"
    }
   ],
   "source": [
    "box_coordinates = pred_for_box0_at_cell_15[:4]\n",
    "box_objectness = pred_for_box0_at_cell_15[4]\n",
    "box_classes = pred_for_box0_at_cell_15[5:]\n",
    "\n",
    "box_coordinates, box_objectness, box_classes"
   ]
  },
  {
   "cell_type": "code",
   "execution_count": 15,
   "metadata": {},
   "outputs": [
    {
     "data": {
      "text/plain": [
       "torch.Size([1, 3, 13, 13, 4])"
      ]
     },
     "execution_count": 15,
     "metadata": {},
     "output_type": "execute_result"
    }
   ],
   "source": [
    "pred_for_coordinates = hl_detections_for_training[...,:4]\n",
    "\n",
    "pred_for_coordinates.shape"
   ]
  },
  {
   "cell_type": "code",
   "execution_count": 16,
   "metadata": {},
   "outputs": [
    {
     "data": {
      "text/plain": [
       "torch.Size([1, 3, 13, 13])"
      ]
     },
     "execution_count": 16,
     "metadata": {},
     "output_type": "execute_result"
    }
   ],
   "source": [
    "pred_for_objectness = hl_detections_for_training[..., 4]\n",
    "pred_for_objectness.shape"
   ]
  },
  {
   "cell_type": "code",
   "execution_count": 17,
   "metadata": {},
   "outputs": [
    {
     "data": {
      "text/plain": [
       "torch.Size([1, 3, 13, 13, 3])"
      ]
     },
     "execution_count": 17,
     "metadata": {},
     "output_type": "execute_result"
    }
   ],
   "source": [
    "pred_for_classes = hl_detections_for_training[..., 5:]\n",
    "\n",
    "pred_for_classes.shape"
   ]
  },
  {
   "cell_type": "code",
   "execution_count": 18,
   "metadata": {},
   "outputs": [
    {
     "name": "stdout",
     "output_type": "stream",
     "text": [
      "tensor([[[-0.6068,  0.3264, -0.0026,  ...,  0.6653,  0.5690, -0.6186],\n",
      "         [ 0.3252,  0.5246, -0.8246,  ..., -0.9340, -0.8551, -0.2306],\n",
      "         [-0.1303, -0.6322,  0.2768,  ..., -0.8081,  0.2712, -0.2689],\n",
      "         ...,\n",
      "         [-0.1936, -0.5268, -0.1613,  ..., -0.6694,  0.2115,  0.7215],\n",
      "         [-0.4344,  0.0244, -0.2799,  ...,  0.8163, -0.1796, -0.5253],\n",
      "         [ 0.8956,  0.3108,  0.0817,  ...,  0.0982, -0.1074, -0.8840]]],\n",
      "       grad_fn=<UnsafeViewBackward0>)\n"
     ]
    },
    {
     "data": {
      "text/plain": [
       "torch.Size([1, 507, 8])"
      ]
     },
     "execution_count": 18,
     "metadata": {},
     "output_type": "execute_result"
    }
   ],
   "source": [
    "hl_detections_for_final_prediction = einops.rearrange(hl_detections, \n",
    "                                          \"batchsize (num_anchors_per_cell predictions_per_object) height width -> batchsize (num_anchors_per_cell height width) predictions_per_object\",\n",
    "                                          num_anchors_per_cell=3, height=13, width=13)\n",
    "\n",
    "print(hl_detections_for_final_prediction)\n",
    "hl_detections_for_final_prediction.shape"
   ]
  }
 ],
 "metadata": {
  "kernelspec": {
   "display_name": "Python 3",
   "language": "python",
   "name": "python3"
  },
  "language_info": {
   "codemirror_mode": {
    "name": "ipython",
    "version": 3
   },
   "file_extension": ".py",
   "mimetype": "text/x-python",
   "name": "python",
   "nbconvert_exporter": "python",
   "pygments_lexer": "ipython3",
   "version": "3.10.12"
  }
 },
 "nbformat": 4,
 "nbformat_minor": 2
}
