{
 "cells": [
  {
   "cell_type": "markdown",
   "metadata": {},
   "source": [
    "# **Reshape, Permute, Squeeze, Unsqueeze using einops**\n",
    "* The content is followed using \"Reshape,Permute,Squeeze,Unsqueeze made simple using einops | The Gems\".<br>Reference: https://www.youtube.com/watch?v=xGy75Pjsqzo&list=PLivJwLo9VCUJXdO8SiOjZTWr_fXrAy4OQ&index=5\n",
    "* Extended by **Vigyannveshi** "
   ]
  },
  {
   "cell_type": "code",
   "execution_count": 1,
   "metadata": {},
   "outputs": [],
   "source": [
    "import einops\n",
    "import torch as tr\n",
    "import numpy as np\n",
    "import torch.nn as nn"
   ]
  },
  {
   "cell_type": "code",
   "execution_count": 2,
   "metadata": {},
   "outputs": [
    {
     "data": {
      "text/plain": [
       "torch.Size([1, 3, 85, 13, 13])"
      ]
     },
     "execution_count": 2,
     "metadata": {},
     "output_type": "execute_result"
    }
   ],
   "source": [
    "x=tr.randn(size=(1,3,85,13,13))\n",
    "x.shape"
   ]
  },
  {
   "cell_type": "code",
   "execution_count": 3,
   "metadata": {},
   "outputs": [
    {
     "data": {
      "text/plain": [
       "torch.Size([1, 3, 13, 13, 85])"
      ]
     },
     "execution_count": 3,
     "metadata": {},
     "output_type": "execute_result"
    }
   ],
   "source": [
    "# I would like the shape to be \n",
    "# (1, 3, 13, 13, 85)\n",
    "\n",
    "y=x.permute(0,1,3,4,2)\n",
    "y.shape"
   ]
  },
  {
   "cell_type": "code",
   "execution_count": 4,
   "metadata": {},
   "outputs": [
    {
     "data": {
      "text/plain": [
       "torch.Size([1, 3, 13, 13, 85])"
      ]
     },
     "execution_count": 4,
     "metadata": {},
     "output_type": "execute_result"
    }
   ],
   "source": [
    "y1 = einops.rearrange(x, \"b num_anchors p h w -> b num_anchors h w p\")\n",
    "y1.shape"
   ]
  },
  {
   "cell_type": "code",
   "execution_count": 5,
   "metadata": {},
   "outputs": [
    {
     "data": {
      "text/plain": [
       "torch.Size([1, 507, 85])"
      ]
     },
     "execution_count": 5,
     "metadata": {},
     "output_type": "execute_result"
    }
   ],
   "source": [
    "# I would like the reshape \n",
    "# from (1, 507, 85)\n",
    "# to (1, 3, 13, 13, 85)\n",
    "\n",
    "x2 = tr.randn(size=(1, 507, 85))\n",
    "x2.shape"
   ]
  },
  {
   "cell_type": "code",
   "execution_count": 6,
   "metadata": {},
   "outputs": [
    {
     "data": {
      "text/plain": [
       "torch.Size([1, 3, 13, 13, 85])"
      ]
     },
     "execution_count": 6,
     "metadata": {},
     "output_type": "execute_result"
    }
   ],
   "source": [
    "y3 = einops.rearrange(\n",
    "    x2, \n",
    "    \"b (num_anchors h w) p -> b num_anchors h w p\", \n",
    "    num_anchors=3, h=13, w=13)\n",
    "\n",
    "y3.shape"
   ]
  },
  {
   "cell_type": "code",
   "execution_count": 7,
   "metadata": {},
   "outputs": [
    {
     "data": {
      "text/plain": [
       "(torch.Size([1, 255, 13, 13]), torch.Size([1, 507, 85]))"
      ]
     },
     "execution_count": 7,
     "metadata": {},
     "output_type": "execute_result"
    }
   ],
   "source": [
    "pred = tr.randn(size=(1, 3 * 85, 13, 13))\n",
    "\n",
    "pred_reshaped = pred.permute(0, 2, 3, 1).contiguous().view(1, -1, 85)\n",
    "\n",
    "pred.shape, pred_reshaped.shape"
   ]
  },
  {
   "cell_type": "code",
   "execution_count": 8,
   "metadata": {},
   "outputs": [
    {
     "data": {
      "text/plain": [
       "torch.Size([1, 507, 85])"
      ]
     },
     "execution_count": 8,
     "metadata": {},
     "output_type": "execute_result"
    }
   ],
   "source": [
    "ein_pred = einops.rearrange(pred, \n",
    "                            \"b (num_anchors p) h w -> b (num_anchors h w) p\",\n",
    "                            num_anchors=3,\n",
    "                            h=13,\n",
    "                            w=13)\n",
    "\n",
    "ein_pred.shape"
   ]
  },
  {
   "cell_type": "code",
   "execution_count": 9,
   "metadata": {},
   "outputs": [
    {
     "data": {
      "text/plain": [
       "torch.Size([13])"
      ]
     },
     "execution_count": 9,
     "metadata": {},
     "output_type": "execute_result"
    }
   ],
   "source": [
    "# let's handle the ugly reshape\n",
    "\n",
    "w = 13\n",
    "h = 13\n",
    "\n",
    "t = tr.arange(w, dtype=tr.float32)\n",
    "\n",
    "t.shape"
   ]
  },
  {
   "cell_type": "code",
   "execution_count": 10,
   "metadata": {},
   "outputs": [
    {
     "data": {
      "text/plain": [
       "torch.Size([1, 1, 13, 1])"
      ]
     },
     "execution_count": 10,
     "metadata": {},
     "output_type": "execute_result"
    }
   ],
   "source": [
    "ugly_c_x = t.reshape(1, 1, -1, 1)\n",
    "\n",
    "ugly_c_x.shape"
   ]
  },
  {
   "cell_type": "code",
   "execution_count": 11,
   "metadata": {},
   "outputs": [
    {
     "data": {
      "text/plain": [
       "torch.Size([1, 1, 13, 1])"
      ]
     },
     "execution_count": 11,
     "metadata": {},
     "output_type": "execute_result"
    }
   ],
   "source": [
    "nice_c_x = einops.rearrange(t, \"w -> 1 1 w 1\")\n",
    "\n",
    "nice_c_x.shape"
   ]
  },
  {
   "cell_type": "code",
   "execution_count": 13,
   "metadata": {},
   "outputs": [
    {
     "data": {
      "text/plain": [
       "True"
      ]
     },
     "execution_count": 13,
     "metadata": {},
     "output_type": "execute_result"
    }
   ],
   "source": [
    "tr.allclose(ugly_c_x, nice_c_x)"
   ]
  },
  {
   "cell_type": "code",
   "execution_count": 15,
   "metadata": {},
   "outputs": [
    {
     "data": {
      "text/plain": [
       "torch.Size([13])"
      ]
     },
     "execution_count": 15,
     "metadata": {},
     "output_type": "execute_result"
    }
   ],
   "source": [
    "tr.squeeze(nice_c_x).shape"
   ]
  },
  {
   "cell_type": "code",
   "execution_count": null,
   "metadata": {},
   "outputs": [],
   "source": [
    "tr.squeeze(nice_c_x, 0).shape"
   ]
  },
  {
   "cell_type": "code",
   "execution_count": 16,
   "metadata": {},
   "outputs": [
    {
     "data": {
      "text/plain": [
       "torch.Size([1, 13])"
      ]
     },
     "execution_count": 16,
     "metadata": {},
     "output_type": "execute_result"
    }
   ],
   "source": [
    "einops.rearrange(nice_c_x, \"1 1 w 1 -> 1 w\").shape"
   ]
  },
  {
   "cell_type": "code",
   "execution_count": 17,
   "metadata": {},
   "outputs": [],
   "source": [
    "# The Rarrange pytorch layer\n",
    "from einops.layers.torch import Rearrange"
   ]
  },
  {
   "cell_type": "code",
   "execution_count": 19,
   "metadata": {},
   "outputs": [],
   "source": [
    "class ANeuralNetwork(nn.Module):\n",
    "  def __init__(self, \n",
    "               in_channels:int,\n",
    "               num_anchors_per_cell:int, \n",
    "               num_classes:int):\n",
    "    \n",
    "    super().__init__()\n",
    "\n",
    "    num_predicted_channels = num_anchors_per_cell * (4 + 1 + num_classes)\n",
    "\n",
    "    self.conv = nn.Conv2d(\n",
    "        in_channels=in_channels,\n",
    "        out_channels=num_predicted_channels,\n",
    "        kernel_size=1,\n",
    "        stride=1,\n",
    "    )\n",
    "\n",
    "    self.rearrange = Rearrange(\"b (num_anchors_per_cell p) h w -> b num_anchors_per_cell h w p\",\n",
    "                               num_anchors_per_cell=num_anchors_per_cell)\n",
    "\n",
    "\n",
    "  def forward(self, x: tr.Tensor) -> tr.Tensor:\n",
    "    x = self.conv(x)\n",
    "    x = self.rearrange(x)\n",
    "    return x\n",
    "  "
   ]
  },
  {
   "cell_type": "code",
   "execution_count": 21,
   "metadata": {},
   "outputs": [
    {
     "data": {
      "text/plain": [
       "torch.Size([1, 3, 13, 13, 85])"
      ]
     },
     "execution_count": 21,
     "metadata": {},
     "output_type": "execute_result"
    }
   ],
   "source": [
    "net = ANeuralNetwork(in_channels=512, num_anchors_per_cell=3, num_classes=80)\n",
    "\n",
    "input_x = tr.randn(size=(1, 512, 13, 13))\n",
    "\n",
    "output = net(input_x)\n",
    "\n",
    "output.shape"
   ]
  }
 ],
 "metadata": {
  "kernelspec": {
   "display_name": "Python 3",
   "language": "python",
   "name": "python3"
  },
  "language_info": {
   "codemirror_mode": {
    "name": "ipython",
    "version": 3
   },
   "file_extension": ".py",
   "mimetype": "text/x-python",
   "name": "python",
   "nbconvert_exporter": "python",
   "pygments_lexer": "ipython3",
   "version": "3.10.12"
  }
 },
 "nbformat": 4,
 "nbformat_minor": 2
}
