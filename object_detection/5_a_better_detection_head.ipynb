{
 "cells": [
  {
   "cell_type": "markdown",
   "metadata": {},
   "source": [
    "# **A better Detection Head**\n",
    "* The content is followed using \"A Better Detection Head | Essentials of Object Detection\".<br>Reference: https://www.youtube.com/watch?v=szu30l7wQ_Y&list=PLivJwLo9VCUJXdO8SiOjZTWr_fXrAy4OQ&index=6\n",
    "* Extended by **Vigyannveshi** "
   ]
  },
  {
   "cell_type": "code",
   "execution_count": 1,
   "metadata": {},
   "outputs": [],
   "source": [
    "from __future__ import annotations\n",
    "\n",
    "import torch as tr\n",
    "import torch.nn as nn\n",
    "\n",
    "from typing import NamedTuple\n",
    "import einops\n",
    "from einops.layers.torch import Rearrange"
   ]
  },
  {
   "cell_type": "markdown",
   "metadata": {},
   "source": [
    "**creating classes to simulate backbone**"
   ]
  },
  {
   "cell_type": "code",
   "execution_count": 2,
   "metadata": {},
   "outputs": [],
   "source": [
    "class FakeBackboneResult(NamedTuple):\n",
    "    hl_features:tr.Tensor\n",
    "    ml_features:tr.Tensor\n",
    "    ll_features:tr.Tensor"
   ]
  },
  {
   "cell_type": "code",
   "execution_count": 3,
   "metadata": {},
   "outputs": [],
   "source": [
    "class FakeBackbone(nn.Module):\n",
    "    def __init__(self):\n",
    "        super().__init__()\n",
    "\n",
    "    def forward(self,x:tr.Tensor)-> FakeBackboneResult:\n",
    "        hl_fm=tr.torch.randn(size=(1,512,13,13))\n",
    "        ml_fm=tr.torch.randn(size=(1,256,26,26))\n",
    "        ll_fm=tr.torch.randn(size=(1,128,52,52))\n",
    "\n",
    "        return FakeBackboneResult(\n",
    "            hl_features=hl_fm,\n",
    "            ml_features=ml_fm,\n",
    "            ll_features=ll_fm) \n"
   ]
  },
  {
   "cell_type": "code",
   "execution_count": 4,
   "metadata": {},
   "outputs": [],
   "source": [
    "backbone=FakeBackbone()\n",
    "backbone_output=backbone(tr.rand(size=(1,3,416,416)))"
   ]
  },
  {
   "cell_type": "code",
   "execution_count": 5,
   "metadata": {},
   "outputs": [
    {
     "data": {
      "text/plain": [
       "torch.Size([1, 512, 13, 13])"
      ]
     },
     "execution_count": 5,
     "metadata": {},
     "output_type": "execute_result"
    }
   ],
   "source": [
    "backbone_output.hl_features.shape"
   ]
  },
  {
   "cell_type": "code",
   "execution_count": 6,
   "metadata": {},
   "outputs": [
    {
     "data": {
      "text/plain": [
       "torch.Size([1, 256, 26, 26])"
      ]
     },
     "execution_count": 6,
     "metadata": {},
     "output_type": "execute_result"
    }
   ],
   "source": [
    "backbone_output.ml_features.shape"
   ]
  },
  {
   "cell_type": "code",
   "execution_count": 7,
   "metadata": {},
   "outputs": [
    {
     "data": {
      "text/plain": [
       "torch.Size([1, 128, 52, 52])"
      ]
     },
     "execution_count": 7,
     "metadata": {},
     "output_type": "execute_result"
    }
   ],
   "source": [
    "backbone_output.ll_features.shape"
   ]
  },
  {
   "cell_type": "markdown",
   "metadata": {},
   "source": [
    "**Splitting the Detection Head into BoxHead, ObjectnessHead, DetectionHead**\n",
    "* Every cell can at max predict num_boxes_per_cell object"
   ]
  },
  {
   "cell_type": "code",
   "execution_count": 8,
   "metadata": {},
   "outputs": [],
   "source": [
    "class BoxHead(nn.Module):\n",
    "    def __init__(self,in_channels:int,num_boxes_per_cell:int):\n",
    "        super().__init__()\n",
    "\n",
    "        num_predicted_channels=num_boxes_per_cell*4\n",
    "\n",
    "        self.conv=nn.Conv2d(\n",
    "            in_channels=in_channels,\n",
    "            out_channels=num_predicted_channels,\n",
    "            kernel_size=1,\n",
    "            stride=1)\n",
    "\n",
    "        self.pred_reshape=Rearrange(\n",
    "            \"batchsize (num_boxes_per_cell prediction_per_cell) height width -> batchsize num_boxes_per_cell height width prediction_per_cell\",num_boxes_per_cell=num_boxes_per_cell\n",
    "        )\n",
    "\n",
    "    def forward(self,x:tr.Tensor)-> tr.Tensor:\n",
    "        x=self.conv(x)\n",
    "        x=self.pred_reshape(x)\n",
    "        return x"
   ]
  },
  {
   "cell_type": "code",
   "execution_count": 9,
   "metadata": {},
   "outputs": [
    {
     "name": "stdout",
     "output_type": "stream",
     "text": [
      "torch.Size([3, 13, 13, 4])\n"
     ]
    },
    {
     "data": {
      "text/plain": [
       "torch.Size([1, 3, 13, 13, 4])"
      ]
     },
     "execution_count": 9,
     "metadata": {},
     "output_type": "execute_result"
    }
   ],
   "source": [
    "hl_box_detector = BoxHead(in_channels=512,num_boxes_per_cell=3)\n",
    "hl_box_detections=hl_box_detector(backbone_output.hl_features)\n",
    "print(hl_box_detections[0].shape)\n",
    "hl_box_detections.shape"
   ]
  },
  {
   "cell_type": "code",
   "execution_count": 10,
   "metadata": {},
   "outputs": [],
   "source": [
    "class ClassificationHead(nn.Module):\n",
    "    def __init__(self,in_channels:int,num_boxes_per_cell:int,num_classes:int):\n",
    "        super().__init__()\n",
    "        num_predicted_channels=num_boxes_per_cell*num_classes\n",
    "\n",
    "        self.conv=nn.Conv2d(\n",
    "            in_channels=in_channels,\n",
    "            out_channels=num_predicted_channels,\n",
    "            kernel_size=1,\n",
    "            stride=1\n",
    "        )\n",
    "\n",
    "        self.pred_reshape=Rearrange(\n",
    "            \"batchsize (num_boxes_per_cell predictions_per_cell) height width -> batchsize num_boxes_per_cell height width predictions_per_cell\", num_boxes_per_cell=num_boxes_per_cell\n",
    "        )\n",
    "\n",
    "    def forward(self,x:tr.Tensor)->tr.Tensor:\n",
    "        x=self.conv(x)\n",
    "        x=self.pred_reshape(x)\n",
    "        return x\n"
   ]
  },
  {
   "cell_type": "code",
   "execution_count": 11,
   "metadata": {},
   "outputs": [
    {
     "data": {
      "text/plain": [
       "torch.Size([1, 3, 13, 13, 3])"
      ]
     },
     "execution_count": 11,
     "metadata": {},
     "output_type": "execute_result"
    }
   ],
   "source": [
    "hl_class_detector = ClassificationHead(in_channels=512, num_boxes_per_cell=3, num_classes=3)\n",
    "\n",
    "hl_class_detections = hl_class_detector(backbone_output.hl_features)\n",
    "hl_class_detections.shape"
   ]
  },
  {
   "cell_type": "code",
   "execution_count": 12,
   "metadata": {},
   "outputs": [],
   "source": [
    "class ObjectnessHead(nn.Module):\n",
    "    def __init__(self,in_channels,num_boxes_per_cell):\n",
    "        super().__init__()\n",
    "        num_predicted_channels=num_boxes_per_cell*1\n",
    "\n",
    "        self.conv=nn.Conv2d(\n",
    "            in_channels=in_channels,\n",
    "            out_channels=num_predicted_channels,\n",
    "            kernel_size=1,\n",
    "            stride=1\n",
    "        )\n",
    "\n",
    "        self.pred_reshape=Rearrange(\n",
    "            \"batchsize (num_boxes_per_cell predictions_per_cell) height width -> batchsize num_boxes_per_cell height width predictions_per_cell\",num_boxes_per_cell=num_boxes_per_cell\n",
    "        )\n",
    "\n",
    "    def forward(self,x:tr.Tensor)->tr.Tensor:\n",
    "        x=self.conv(x)\n",
    "        x=self.pred_reshape(x)\n",
    "        return x\n"
   ]
  },
  {
   "cell_type": "code",
   "execution_count": 13,
   "metadata": {},
   "outputs": [
    {
     "data": {
      "text/plain": [
       "torch.Size([1, 3, 13, 13, 1])"
      ]
     },
     "execution_count": 13,
     "metadata": {},
     "output_type": "execute_result"
    }
   ],
   "source": [
    "hl_obj_detector = ObjectnessHead(in_channels=512, num_boxes_per_cell=3)\n",
    "\n",
    "hl_obj_detections = hl_obj_detector(backbone_output.hl_features)\n",
    "hl_obj_detections.shape"
   ]
  },
  {
   "cell_type": "code",
   "execution_count": 14,
   "metadata": {},
   "outputs": [],
   "source": [
    "class DetectionResult(NamedTuple):\n",
    "    predictions_box:tr.Tensor\n",
    "    predictions_obj:tr.Tensor\n",
    "    predictions_cls:tr.Tensor"
   ]
  },
  {
   "cell_type": "code",
   "execution_count": 17,
   "metadata": {},
   "outputs": [],
   "source": [
    "class DetectionHead(nn.Module):\n",
    "    def __init__(self,in_channels:int,num_boxes_per_cell:int,num_classes:int):\n",
    "        super().__init__()\n",
    "\n",
    "        self.box_head=BoxHead(\n",
    "            in_channels=in_channels,num_boxes_per_cell=num_boxes_per_cell\n",
    "        )\n",
    "        self.obj_head=ObjectnessHead(\n",
    "            in_channels=in_channels,num_boxes_per_cell=num_boxes_per_cell\n",
    "        )\n",
    "\n",
    "        self.cls_head=ClassificationHead(\n",
    "            in_channels=in_channels,num_boxes_per_cell=num_boxes_per_cell,\n",
    "            num_classes=num_classes\n",
    "        )\n",
    "    \n",
    "    def forward(self,x:tr.Tensor)->tr.Tensor:\n",
    "        predictions_box=self.box_head(x)\n",
    "        predictions_obj=self.obj_head(x)\n",
    "        predictions_cls=self.cls_head(x)\n",
    "        return DetectionResult(predictions_box,predictions_obj,predictions_cls)"
   ]
  },
  {
   "cell_type": "code",
   "execution_count": 18,
   "metadata": {},
   "outputs": [
    {
     "data": {
      "text/plain": [
       "(torch.Size([1, 3, 13, 13, 4]),\n",
       " torch.Size([1, 3, 13, 13, 1]),\n",
       " torch.Size([1, 3, 13, 13, 3]))"
      ]
     },
     "execution_count": 18,
     "metadata": {},
     "output_type": "execute_result"
    }
   ],
   "source": [
    "hl_detector = DetectionHead(in_channels=512, num_boxes_per_cell=3, num_classes=3)\n",
    "\n",
    "hl_box_detections, hl_obj_detections, hl_class_detections = hl_detector(backbone_output.hl_features)\n",
    "\n",
    "hl_box_detections.shape, hl_obj_detections.shape, hl_class_detections.shape"
   ]
  }
 ],
 "metadata": {
  "kernelspec": {
   "display_name": "Python 3",
   "language": "python",
   "name": "python3"
  },
  "language_info": {
   "codemirror_mode": {
    "name": "ipython",
    "version": 3
   },
   "file_extension": ".py",
   "mimetype": "text/x-python",
   "name": "python",
   "nbconvert_exporter": "python",
   "pygments_lexer": "ipython3",
   "version": "3.10.12"
  }
 },
 "nbformat": 4,
 "nbformat_minor": 2
}
