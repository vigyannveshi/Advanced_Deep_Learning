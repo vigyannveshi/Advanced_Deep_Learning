{
 "cells": [
  {
   "cell_type": "markdown",
   "metadata": {},
   "source": [
    "# **Basic Intersection over Union and Non Max Suppression**\n",
    "* The content is followed using \"Non Max Suppression Explained and PyTorch Implementation\".<br>Reference: https://www.youtube.com/watch?v=YDkjWEN8jNA&list=PLhhyoLH6Ijfw0TpCTVTNk42NN08H6UvNq&index=3\n",
    "* Extended by **Vigyannveshi** "
   ]
  },
  {
   "cell_type": "code",
   "execution_count": 1,
   "metadata": {},
   "outputs": [],
   "source": [
    "import torch as tr"
   ]
  },
  {
   "cell_type": "code",
   "execution_count": 6,
   "metadata": {},
   "outputs": [
    {
     "name": "stdout",
     "output_type": "stream",
     "text": [
      "tensor([[ 0.8206,  1.6311, -0.1001,  1.7589, -0.2011]])\n",
      "torch.Size([1])\n",
      "torch.Size([1, 1])\n"
     ]
    }
   ],
   "source": [
    "a=tr.randn((1,5))\n",
    "print(a)\n",
    "### makes it a scalar\n",
    "print(a[...,1].shape)\n",
    "### preserves the second dimension\n",
    "print(a[...,0:1].shape) # 0th element included, 1st excluded"
   ]
  },
  {
   "cell_type": "code",
   "execution_count": 7,
   "metadata": {},
   "outputs": [],
   "source": [
    "### intersection over union\n",
    "def intersection_over_union(box_preds,ground_truth,box_format=\"corners\",epsilon=1e-6):\n",
    "    if box_format==\"midpoint\":\n",
    "        box1_x1=box_preds[...,0:1]-box_preds[...,2:3] / 2\n",
    "        box1_y1=box_preds[...,1:2]-box_preds[...,3:4] / 2\n",
    "        box1_x2=box_preds[...,0:1]+box_preds[...,2:3] / 2\n",
    "        box1_y2=box_preds[...,1:2]+box_preds[...,3:4] / 2\n",
    "\n",
    "        box2_x1=ground_truth[...,0:1]-ground_truth[...,2:3] / 2\n",
    "        box2_y1=ground_truth[...,1:2]-ground_truth[...,3:4] / 2\n",
    "        box2_x2=ground_truth[...,0:1]+ground_truth[...,2:3] / 2\n",
    "        box2_y2=ground_truth[...,1:2]+ground_truth[...,3:4] / 2\n",
    "    \n",
    "    else:\n",
    "        box1_x1=box_preds[...,0:1]\n",
    "        box1_y1=box_preds[...,1:2]\n",
    "        box1_x2=box_preds[...,2:3]\n",
    "        box1_y2=box_preds[...,3:4]\n",
    "\n",
    "        box2_x1=ground_truth[...,0:1]\n",
    "        box2_y1=ground_truth[...,1:2]\n",
    "        box2_x2=ground_truth[...,2:3]\n",
    "        box2_y2=ground_truth[...,3:4]\n",
    "\n",
    "    x1=tr.max(box1_x1,box2_x1)\n",
    "    y1=tr.max(box1_y1,box2_y1)\n",
    "    x2=tr.min(box1_x2,box2_x2)\n",
    "    y2=tr.min(box1_y2,box2_y2)\n",
    "\n",
    "    # intersection (clamp(0) ensures the intersection is 0 if there is no overlap)\n",
    "    intersection=(x2-x1).clamp(0)*(y2-y1).clamp(0)\n",
    "\n",
    "    # computing box1 & box2 areas\n",
    "    box1_area=abs((box1_x1-box1_x2)*(box1_y1-box1_y2))\n",
    "    box2_area=abs((box2_x1-box2_x2)*(box2_y1-box2_y2))\n",
    "\n",
    "    return intersection/(box1_area+box2_area-intersection+epsilon)"
   ]
  },
  {
   "cell_type": "code",
   "execution_count": null,
   "metadata": {},
   "outputs": [],
   "source": [
    "def non_max_supression(predictions,confidence_threshold,iou_threshold,box_format=\"corners\"):\n",
    "    # predictions = [[class, probability_of_bbox, x1,y1,x2,y2],[],[]]\n",
    "    assert type(predictions)==list\n",
    "    bboxes=[box for box in predictions if box[1]>confidence_threshold]\n",
    "\n",
    "    # sorting bounding with highest probability in the beganing\n",
    "    bboxes=sorted(bboxes,lambda x:x[1],reverse=True)\n",
    "    \n",
    "    # creating list to store bounding boxes\n",
    "    bboxes_after_nms=[]\n",
    "\n",
    "    # main loop \n",
    "    while bboxes:\n",
    "        chosen_box=bboxes.pop(0)\n",
    "        bboxes=[\n",
    "            box \n",
    "            for box in bboxes\n",
    "            if box[0] != chosen_box[0]\n",
    "            or intersection_over_union(tr.tensor(chosen_box[2:]),\n",
    "                                       tr.tensor(box[2:]),\n",
    "                                       box_format=box_format\n",
    "                                       )\n",
    "            < iou_threshold \n",
    "        ]\n",
    "        bboxes_after_nms.append(chosen_box)\n",
    "    \n",
    "    return bboxes_after_nms\n",
    "\n"
   ]
  }
 ],
 "metadata": {
  "kernelspec": {
   "display_name": "Python 3",
   "language": "python",
   "name": "python3"
  },
  "language_info": {
   "codemirror_mode": {
    "name": "ipython",
    "version": 3
   },
   "file_extension": ".py",
   "mimetype": "text/x-python",
   "name": "python",
   "nbconvert_exporter": "python",
   "pygments_lexer": "ipython3",
   "version": "3.10.12"
  }
 },
 "nbformat": 4,
 "nbformat_minor": 2
}
