{
 "cells": [
  {
   "cell_type": "markdown",
   "metadata": {},
   "source": [
    "# **Exploring Parameters**\n",
    "* **Basic concepts learnt from: A Deep understanding of Deep Learning (with Python intro) - Mark X Cohen (Udemy) - https://www.udemy.com/course/deeplearning_x**\n",
    "* **Extended learning and understanding by VigyannVeshi**"
   ]
  },
  {
   "cell_type": "code",
   "execution_count": 1,
   "metadata": {},
   "outputs": [],
   "source": [
    "import numpy as np\n",
    "import torch as tr\n",
    "import torch.nn as nn"
   ]
  },
  {
   "cell_type": "code",
   "execution_count": 5,
   "metadata": {},
   "outputs": [],
   "source": [
    "def compute_run(inChans,outChans,imsize,krnsize,padding,stride):\n",
    "    # create the instance\n",
    "    c=nn.Conv2d(inChans,outChans,krnsize,stride,padding)\n",
    "\n",
    "    # create the image\n",
    "    img=tr.rand(1,inChans,imsize[0],imsize[1])\n",
    "\n",
    "    # run the convolution and compute its shape\n",
    "    resimg=c(img)\n",
    "    # emperical size\n",
    "    empSize=tr.squeeze(resimg).shape\n",
    "\n",
    "    # compute the size of the result according to the formula\n",
    "    expectSize=np.array([outChans,0,0],dtype=int)\n",
    "    expectSize[1] =int(np.floor((imsize[0]+2*padding-krnsize)/stride[0]))+1\n",
    "    expectSize[2] =int(np.floor((imsize[1]+2*padding-krnsize)/stride[1]))+1\n",
    "\n",
    "    # check the size of output\n",
    "    print(f\"Input size: {[inChans,imsize[0],imsize[1]]}\")\n",
    "    print(f\"Expected size: {expectSize}\")\n",
    "    print(f\"Emperical size: {list(empSize)}\")"
   ]
  },
  {
   "cell_type": "markdown",
   "metadata": {},
   "source": [
    "**Questions:**"
   ]
  },
  {
   "cell_type": "markdown",
   "metadata": {},
   "source": [
    "1) Convolve an image of size 1x256x256 to produce a result of 1x252x84 result"
   ]
  },
  {
   "cell_type": "code",
   "execution_count": 6,
   "metadata": {},
   "outputs": [
    {
     "name": "stdout",
     "output_type": "stream",
     "text": [
      "Input size: [1, 256, 256]\n",
      "Expected size: [  1 252  84]\n",
      "Emperical size: [252, 84]\n"
     ]
    }
   ],
   "source": [
    "# parameters:\n",
    "inChans= 1          # GrayScale image\n",
    "imsize= [256,256]\n",
    "outChans= 1         # filter outputs \n",
    "krnsize= 7          # should be an odd number\n",
    "stride = (1,3)\n",
    "padding= 1\n",
    "\n",
    "compute_run(inChans,outChans,imsize,krnsize,padding,stride)"
   ]
  },
  {
   "cell_type": "markdown",
   "metadata": {},
   "source": [
    "2) Convolve an image of size 3x64x64 to produce a 10x28x28 result"
   ]
  },
  {
   "cell_type": "code",
   "execution_count": 29,
   "metadata": {},
   "outputs": [
    {
     "name": "stdout",
     "output_type": "stream",
     "text": [
      "Input size: [3, 64, 64]\n",
      "Expected size: [10 28 28]\n",
      "Emperical size: [10, 28, 28]\n"
     ]
    }
   ],
   "source": [
    "# parameters:\n",
    "inChans= 3              # GrayScale image\n",
    "imsize= [64,64]\n",
    "outChans= 10            # filter outputs \n",
    "krnsize= 9              # should be an odd number\n",
    "stride = (2,2)\n",
    "padding= 0\n",
    "\n",
    "compute_run(inChans,outChans,imsize,krnsize,padding,stride)"
   ]
  },
  {
   "cell_type": "markdown",
   "metadata": {},
   "source": [
    "3) Convolve an image of size 3x196x96 to produce a 5x66x49 result"
   ]
  },
  {
   "cell_type": "code",
   "execution_count": 79,
   "metadata": {},
   "outputs": [
    {
     "name": "stdout",
     "output_type": "stream",
     "text": [
      "Input size: [3, 196, 96]\n",
      "Expected size: [ 5 66 49]\n",
      "Emperical size: [5, 66, 49]\n"
     ]
    }
   ],
   "source": [
    "# parameters:\n",
    "inChans= 3              # GrayScale image\n",
    "imsize= [196,96]\n",
    "outChans= 5            # filter outputs \n",
    "krnsize= 7              # should be an odd number\n",
    "stride = (3,2)\n",
    "padding= 4\n",
    "\n",
    "compute_run(inChans,outChans,imsize,krnsize,padding,stride)"
   ]
  },
  {
   "cell_type": "markdown",
   "metadata": {},
   "source": [
    "4) Convolve an image of size 1x32x32 to produce a 6x28x28 result"
   ]
  },
  {
   "cell_type": "code",
   "execution_count": 44,
   "metadata": {},
   "outputs": [
    {
     "name": "stdout",
     "output_type": "stream",
     "text": [
      "Input size: [1, 32, 32]\n",
      "Expected size: [ 6 28 28]\n",
      "Emperical size: [6, 28, 28]\n"
     ]
    }
   ],
   "source": [
    "# parameters:\n",
    "inChans= 1              # GrayScale image\n",
    "imsize= [32,32]\n",
    "outChans= 6            # filter outputs \n",
    "krnsize= 5              # should be an odd number\n",
    "stride = (1,1)\n",
    "padding= 0\n",
    "\n",
    "compute_run(inChans,outChans,imsize,krnsize,padding,stride)"
   ]
  },
  {
   "cell_type": "markdown",
   "metadata": {},
   "source": [
    "5) Convolve an image of size 3x227x227 to produce a 96x55x55 result"
   ]
  },
  {
   "cell_type": "code",
   "execution_count": 60,
   "metadata": {},
   "outputs": [
    {
     "name": "stdout",
     "output_type": "stream",
     "text": [
      "Input size: [3, 227, 227]\n",
      "Expected size: [96 55 55]\n",
      "Emperical size: [96, 55, 55]\n"
     ]
    }
   ],
   "source": [
    "# parameters:\n",
    "inChans= 3              # GrayScale image\n",
    "imsize= [227,227]\n",
    "outChans= 96          # filter outputs \n",
    "krnsize= 11              # should be an odd number\n",
    "stride = (4,4)\n",
    "padding= 1\n",
    "\n",
    "compute_run(inChans,outChans,imsize,krnsize,padding,stride)"
   ]
  },
  {
   "cell_type": "markdown",
   "metadata": {},
   "source": [
    "6) Convolve an image of size 3x224x224 to produce a 64x224x224 result<br>\n",
    "**Note: This dimensions are the input to the first layer of famous VGG-16**"
   ]
  },
  {
   "cell_type": "code",
   "execution_count": 61,
   "metadata": {},
   "outputs": [
    {
     "name": "stdout",
     "output_type": "stream",
     "text": [
      "Input size: [3, 224, 224]\n",
      "Expected size: [ 64 224 224]\n",
      "Emperical size: [64, 224, 224]\n"
     ]
    }
   ],
   "source": [
    "# parameters:\n",
    "inChans= 3              # GrayScale image\n",
    "imsize= [224,224]\n",
    "outChans= 64            # filter outputs \n",
    "krnsize= 5              # should be an odd number\n",
    "stride = (1,1)\n",
    "padding= 2\n",
    "\n",
    "compute_run(inChans,outChans,imsize,krnsize,padding,stride)"
   ]
  }
 ],
 "metadata": {
  "kernelspec": {
   "display_name": "Python 3",
   "language": "python",
   "name": "python3"
  },
  "language_info": {
   "codemirror_mode": {
    "name": "ipython",
    "version": 3
   },
   "file_extension": ".py",
   "mimetype": "text/x-python",
   "name": "python",
   "nbconvert_exporter": "python",
   "pygments_lexer": "ipython3",
   "version": "3.10.12"
  }
 },
 "nbformat": 4,
 "nbformat_minor": 2
}
