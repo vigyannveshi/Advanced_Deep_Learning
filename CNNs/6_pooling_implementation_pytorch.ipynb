{
 "cells": [
  {
   "cell_type": "markdown",
   "metadata": {},
   "source": [
    "# **Implementation of Pooling in pytorch**\n",
    "* **Basic concepts learnt from: A Deep understanding of Deep Learning (with Python intro) - Mark X Cohen (Udemy) - https://www.udemy.com/course/deeplearning_x**"
   ]
  },
  {
   "cell_type": "code",
   "execution_count": 1,
   "metadata": {},
   "outputs": [],
   "source": [
    "# import libraries\n",
    "import torch as tr\n",
    "import torch.nn as nn"
   ]
  },
  {
   "cell_type": "code",
   "execution_count": 2,
   "metadata": {},
   "outputs": [
    {
     "name": "stdout",
     "output_type": "stream",
     "text": [
      "MaxPool2d(kernel_size=3, stride=3, padding=0, dilation=1, ceil_mode=False)\n",
      "MaxPool3d(kernel_size=3, stride=3, padding=0, dilation=1, ceil_mode=False)\n"
     ]
    }
   ],
   "source": [
    "# create a maxpool instance\n",
    "\n",
    "# parameters:\n",
    "poolSize=3\n",
    "stride=3\n",
    "\n",
    "# create the instance\n",
    "p2=nn.MaxPool2d(poolSize,stride=stride)\n",
    "p3=nn.MaxPool3d(poolSize,stride=stride)\n",
    "\n",
    "# lets have a look at them\n",
    "print(p2)\n",
    "print(p3)"
   ]
  },
  {
   "cell_type": "code",
   "execution_count": 7,
   "metadata": {},
   "outputs": [
    {
     "name": "stdout",
     "output_type": "stream",
     "text": [
      "2D image, 2D maxpool: torch.Size([1, 1, 10, 10])\n",
      "\n",
      "3D image, 2D maxpool: torch.Size([1, 3, 10, 10])\n",
      "\n",
      "3D image, 3D maxpool: torch.Size([1, 1, 10, 10])\n",
      "\n"
     ]
    }
   ],
   "source": [
    "# creating image and apply maxpooling\n",
    "\n",
    "# create a 2D and a 3D image\n",
    "img2=tr.randn(1,1,30,30)\n",
    "img3=tr.randn(1,3,30,30)  \n",
    "\n",
    "# all the combination of image and maxpool dimensionality\n",
    "img2Pool2=p2(img2)\n",
    "print(f'2D image, 2D maxpool: {img2Pool2.shape}\\n')\n",
    "\n",
    "# img2Pool3=p3(img2) ### will give error\n",
    "# print(f'2D image, 2D maxpool: {img2Pool3.shape}\\n')\n",
    "\n",
    "img3Pool2=p2(img3)\n",
    "print(f'3D image, 2D maxpool: {img3Pool2.shape}\\n')\n",
    "\n",
    "img3Pool3=p3(img3)\n",
    "print(f'3D image, 3D maxpool: {img3Pool3.shape}\\n')\n"
   ]
  },
  {
   "cell_type": "code",
   "execution_count": 8,
   "metadata": {},
   "outputs": [],
   "source": [
    "# creating a simple CNN architecture\n",
    "littleNet=nn.Sequential(\n",
    "    ### the conv-pool block\n",
    "    ### {Convolution is a linear operation}\n",
    "    nn.Conv2d(in_channels=3,out_channels=10,kernel_size=5,stride=3,padding=2),  # convolution layer\n",
    "    nn.ReLU(),                                                                  # activation function\n",
    "    nn.AvgPool3d(kernel_size=3,stride=3),                                       # average pool\n",
    "\n",
    "    ### The FFN block\n",
    "    nn.Flatten(),                                   # vectorize to get from image to linear\n",
    "    nn.Linear(in_features=588,out_features=1),      # FC linear layer\n",
    "    nn.Sigmoid()                                    # output activation  \n",
    ")"
   ]
  },
  {
   "cell_type": "code",
   "execution_count": 9,
   "metadata": {},
   "outputs": [
    {
     "data": {
      "text/plain": [
       "tensor([[0.4965]], grad_fn=<SigmoidBackward0>)"
      ]
     },
     "execution_count": 9,
     "metadata": {},
     "output_type": "execute_result"
    }
   ],
   "source": [
    "# test with a bit of data\n",
    "img=tr.randn(1,3,128,128)\n",
    "littleNet(img)"
   ]
  },
  {
   "cell_type": "markdown",
   "metadata": {},
   "source": [
    "**Additional Explorations**<br>\n",
    "Create a function to implement pooling from scratch"
   ]
  }
 ],
 "metadata": {
  "kernelspec": {
   "display_name": "Python 3",
   "language": "python",
   "name": "python3"
  },
  "language_info": {
   "codemirror_mode": {
    "name": "ipython",
    "version": 3
   },
   "file_extension": ".py",
   "mimetype": "text/x-python",
   "name": "python",
   "nbconvert_exporter": "python",
   "pygments_lexer": "ipython3",
   "version": "3.10.12"
  }
 },
 "nbformat": 4,
 "nbformat_minor": 2
}
